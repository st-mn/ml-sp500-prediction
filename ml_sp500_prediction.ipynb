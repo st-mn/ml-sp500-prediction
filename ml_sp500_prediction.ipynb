{
 "cells": [
  {
   "cell_type": "code",
   "execution_count": 8,
   "id": "f53fcbbf-a62d-4aa2-be7b-9aa4e17a5e48",
   "metadata": {},
   "outputs": [],
   "source": [
    "import yfinance as yf\n",
    "import pandas as pd\n",
    "import os\n",
    "import matplotlib.pyplot as plt\n"
   ]
  },
  {
   "cell_type": "code",
   "execution_count": 3,
   "id": "0c4d2b51-1187-44c7-a281-da84d0381dd5",
   "metadata": {},
   "outputs": [],
   "source": [
    "if os.path.exists(\"sp500.csv\"):\n",
    "    sp500 = pd.read_csv(\"sp500.csv\", index_col=0)\n",
    "else:\n",
    "    sp500 = yf.Ticker(\"^GSPC\")\n",
    "    sp500 = sp500.history(period=\"max\")\n",
    "    sp500.to_csv(\"sp500.csv\")"
   ]
  },
  {
   "cell_type": "code",
   "execution_count": 4,
   "id": "f605b43c-8db9-43ae-b2d4-29fc6048b8aa",
   "metadata": {},
   "outputs": [],
   "source": [
    "sp500.index = pd.to_datetime(sp500.index)"
   ]
  },
  {
   "cell_type": "code",
   "execution_count": 5,
   "id": "fbb162ce-7d18-4c14-b349-9014c0d6db42",
   "metadata": {},
   "outputs": [
    {
     "data": {
      "text/html": [
       "<div>\n",
       "<style scoped>\n",
       "    .dataframe tbody tr th:only-of-type {\n",
       "        vertical-align: middle;\n",
       "    }\n",
       "\n",
       "    .dataframe tbody tr th {\n",
       "        vertical-align: top;\n",
       "    }\n",
       "\n",
       "    .dataframe thead th {\n",
       "        text-align: right;\n",
       "    }\n",
       "</style>\n",
       "<table border=\"1\" class=\"dataframe\">\n",
       "  <thead>\n",
       "    <tr style=\"text-align: right;\">\n",
       "      <th></th>\n",
       "      <th>Open</th>\n",
       "      <th>High</th>\n",
       "      <th>Low</th>\n",
       "      <th>Close</th>\n",
       "      <th>Volume</th>\n",
       "      <th>Dividends</th>\n",
       "      <th>Stock Splits</th>\n",
       "    </tr>\n",
       "    <tr>\n",
       "      <th>Date</th>\n",
       "      <th></th>\n",
       "      <th></th>\n",
       "      <th></th>\n",
       "      <th></th>\n",
       "      <th></th>\n",
       "      <th></th>\n",
       "      <th></th>\n",
       "    </tr>\n",
       "  </thead>\n",
       "  <tbody>\n",
       "    <tr>\n",
       "      <th>1927-12-30 00:00:00-05:00</th>\n",
       "      <td>17.660000</td>\n",
       "      <td>17.660000</td>\n",
       "      <td>17.660000</td>\n",
       "      <td>17.660000</td>\n",
       "      <td>0</td>\n",
       "      <td>0.0</td>\n",
       "      <td>0.0</td>\n",
       "    </tr>\n",
       "    <tr>\n",
       "      <th>1928-01-03 00:00:00-05:00</th>\n",
       "      <td>17.760000</td>\n",
       "      <td>17.760000</td>\n",
       "      <td>17.760000</td>\n",
       "      <td>17.760000</td>\n",
       "      <td>0</td>\n",
       "      <td>0.0</td>\n",
       "      <td>0.0</td>\n",
       "    </tr>\n",
       "    <tr>\n",
       "      <th>1928-01-04 00:00:00-05:00</th>\n",
       "      <td>17.719999</td>\n",
       "      <td>17.719999</td>\n",
       "      <td>17.719999</td>\n",
       "      <td>17.719999</td>\n",
       "      <td>0</td>\n",
       "      <td>0.0</td>\n",
       "      <td>0.0</td>\n",
       "    </tr>\n",
       "    <tr>\n",
       "      <th>1928-01-05 00:00:00-05:00</th>\n",
       "      <td>17.549999</td>\n",
       "      <td>17.549999</td>\n",
       "      <td>17.549999</td>\n",
       "      <td>17.549999</td>\n",
       "      <td>0</td>\n",
       "      <td>0.0</td>\n",
       "      <td>0.0</td>\n",
       "    </tr>\n",
       "    <tr>\n",
       "      <th>1928-01-06 00:00:00-05:00</th>\n",
       "      <td>17.660000</td>\n",
       "      <td>17.660000</td>\n",
       "      <td>17.660000</td>\n",
       "      <td>17.660000</td>\n",
       "      <td>0</td>\n",
       "      <td>0.0</td>\n",
       "      <td>0.0</td>\n",
       "    </tr>\n",
       "    <tr>\n",
       "      <th>...</th>\n",
       "      <td>...</td>\n",
       "      <td>...</td>\n",
       "      <td>...</td>\n",
       "      <td>...</td>\n",
       "      <td>...</td>\n",
       "      <td>...</td>\n",
       "      <td>...</td>\n",
       "    </tr>\n",
       "    <tr>\n",
       "      <th>2023-05-30 00:00:00-04:00</th>\n",
       "      <td>4226.709961</td>\n",
       "      <td>4231.100098</td>\n",
       "      <td>4192.180176</td>\n",
       "      <td>4205.520020</td>\n",
       "      <td>4228510000</td>\n",
       "      <td>0.0</td>\n",
       "      <td>0.0</td>\n",
       "    </tr>\n",
       "    <tr>\n",
       "      <th>2023-05-31 00:00:00-04:00</th>\n",
       "      <td>4190.740234</td>\n",
       "      <td>4195.439941</td>\n",
       "      <td>4166.149902</td>\n",
       "      <td>4179.830078</td>\n",
       "      <td>5980670000</td>\n",
       "      <td>0.0</td>\n",
       "      <td>0.0</td>\n",
       "    </tr>\n",
       "    <tr>\n",
       "      <th>2023-06-01 00:00:00-04:00</th>\n",
       "      <td>4183.029785</td>\n",
       "      <td>4232.430176</td>\n",
       "      <td>4171.640137</td>\n",
       "      <td>4221.020020</td>\n",
       "      <td>4391860000</td>\n",
       "      <td>0.0</td>\n",
       "      <td>0.0</td>\n",
       "    </tr>\n",
       "    <tr>\n",
       "      <th>2023-06-02 00:00:00-04:00</th>\n",
       "      <td>4241.009766</td>\n",
       "      <td>4290.669922</td>\n",
       "      <td>4241.009766</td>\n",
       "      <td>4282.370117</td>\n",
       "      <td>4454200000</td>\n",
       "      <td>0.0</td>\n",
       "      <td>0.0</td>\n",
       "    </tr>\n",
       "    <tr>\n",
       "      <th>2023-06-05 00:00:00-04:00</th>\n",
       "      <td>4282.990234</td>\n",
       "      <td>4299.279785</td>\n",
       "      <td>4266.819824</td>\n",
       "      <td>4273.790039</td>\n",
       "      <td>3813290000</td>\n",
       "      <td>0.0</td>\n",
       "      <td>0.0</td>\n",
       "    </tr>\n",
       "  </tbody>\n",
       "</table>\n",
       "<p>23971 rows × 7 columns</p>\n",
       "</div>"
      ],
      "text/plain": [
       "                                  Open         High          Low        Close  \\\n",
       "Date                                                                            \n",
       "1927-12-30 00:00:00-05:00    17.660000    17.660000    17.660000    17.660000   \n",
       "1928-01-03 00:00:00-05:00    17.760000    17.760000    17.760000    17.760000   \n",
       "1928-01-04 00:00:00-05:00    17.719999    17.719999    17.719999    17.719999   \n",
       "1928-01-05 00:00:00-05:00    17.549999    17.549999    17.549999    17.549999   \n",
       "1928-01-06 00:00:00-05:00    17.660000    17.660000    17.660000    17.660000   \n",
       "...                                ...          ...          ...          ...   \n",
       "2023-05-30 00:00:00-04:00  4226.709961  4231.100098  4192.180176  4205.520020   \n",
       "2023-05-31 00:00:00-04:00  4190.740234  4195.439941  4166.149902  4179.830078   \n",
       "2023-06-01 00:00:00-04:00  4183.029785  4232.430176  4171.640137  4221.020020   \n",
       "2023-06-02 00:00:00-04:00  4241.009766  4290.669922  4241.009766  4282.370117   \n",
       "2023-06-05 00:00:00-04:00  4282.990234  4299.279785  4266.819824  4273.790039   \n",
       "\n",
       "                               Volume  Dividends  Stock Splits  \n",
       "Date                                                            \n",
       "1927-12-30 00:00:00-05:00           0        0.0           0.0  \n",
       "1928-01-03 00:00:00-05:00           0        0.0           0.0  \n",
       "1928-01-04 00:00:00-05:00           0        0.0           0.0  \n",
       "1928-01-05 00:00:00-05:00           0        0.0           0.0  \n",
       "1928-01-06 00:00:00-05:00           0        0.0           0.0  \n",
       "...                               ...        ...           ...  \n",
       "2023-05-30 00:00:00-04:00  4228510000        0.0           0.0  \n",
       "2023-05-31 00:00:00-04:00  5980670000        0.0           0.0  \n",
       "2023-06-01 00:00:00-04:00  4391860000        0.0           0.0  \n",
       "2023-06-02 00:00:00-04:00  4454200000        0.0           0.0  \n",
       "2023-06-05 00:00:00-04:00  3813290000        0.0           0.0  \n",
       "\n",
       "[23971 rows x 7 columns]"
      ]
     },
     "execution_count": 5,
     "metadata": {},
     "output_type": "execute_result"
    }
   ],
   "source": [
    "sp500"
   ]
  },
  {
   "cell_type": "code",
   "execution_count": 9,
   "id": "3e7ddd5b-9c2d-4c13-8210-72a4adb61159",
   "metadata": {},
   "outputs": [
    {
     "data": {
      "text/plain": [
       "<Axes: xlabel='Date'>"
      ]
     },
     "execution_count": 9,
     "metadata": {},
     "output_type": "execute_result"
    },
    {
     "data": {
      "image/png": "[encoded data removed]",
      "text/plain": [
       "<Figure size 640x480 with 1 Axes>"
      ]
     },
     "metadata": {},
     "output_type": "display_data"
    }
   ],
   "source": [
    "sp500.plot.line(y=\"Close\", use_index=True)"
   ]
  },
  {
   "cell_type": "code",
   "execution_count": 10,
   "id": "1b02b64d-9eef-489f-894d-26f9e6792db5",
   "metadata": {},
   "outputs": [],
   "source": [
    "del sp500[\"Dividends\"]\n",
    "del sp500[\"Stock Splits\"]"
   ]
  },
  {
   "cell_type": "code",
   "execution_count": 11,
   "id": "f25e1594-1cd2-47ae-bb50-a0d17ac35c69",
   "metadata": {},
   "outputs": [],
   "source": [
    "sp500[\"Tomorrow\"] = sp500[\"Close\"].shift(-1)"
   ]
  },
  {
   "cell_type": "code",
   "execution_count": 12,
   "id": "871b16a1-9d77-40c8-8564-1947b438a113",
   "metadata": {},
   "outputs": [],
   "source": [
    "sp500[\"Target\"] = (sp500[\"Tomorrow\"] > sp500[\"Close\"]).astype(int)"
   ]
  },
  {
   "cell_type": "code",
   "execution_count": 13,
   "id": "79e58626-3be6-45f7-b1aa-1786593e3bd6",
   "metadata": {},
   "outputs": [],
   "source": [
    "sp500 = sp500.loc[\"1990-01-01\":].copy()"
   ]
  },
  {
   "cell_type": "code",
   "execution_count": 15,
   "id": "ad95d689-520a-4141-ab6e-a0fe3f9697a6",
   "metadata": {},
   "outputs": [
    {
     "data": {
      "text/html": [
       "<style>#sk-container-id-1 {color: black;background-color: white;}#sk-container-id-1 pre{padding: 0;}#sk-container-id-1 div.sk-toggleable {background-color: white;}#sk-container-id-1 label.sk-toggleable__label {cursor: pointer;display: block;width: 100%;margin-bottom: 0;padding: 0.3em;box-sizing: border-box;text-align: center;}#sk-container-id-1 label.sk-toggleable__label-arrow:before {content: \"▸\";float: left;margin-right: 0.25em;color: #696969;}#sk-container-id-1 label.sk-toggleable__label-arrow:hover:before {color: black;}#sk-container-id-1 div.sk-estimator:hover label.sk-toggleable__label-arrow:before {color: black;}#sk-container-id-1 div.sk-toggleable__content {max-height: 0;max-width: 0;overflow: hidden;text-align: left;background-color: #f0f8ff;}#sk-container-id-1 div.sk-toggleable__content pre {margin: 0.2em;color: black;border-radius: 0.25em;background-color: #f0f8ff;}#sk-container-id-1 input.sk-toggleable__control:checked~div.sk-toggleable__content {max-height: 200px;max-width: 100%;overflow: auto;}#sk-container-id-1 input.sk-toggleable__control:checked~label.sk-toggleable__label-arrow:before {content: \"▾\";}#sk-container-id-1 div.sk-estimator input.sk-toggleable__control:checked~label.sk-toggleable__label {background-color: #d4ebff;}#sk-container-id-1 div.sk-label input.sk-toggleable__control:checked~label.sk-toggleable__label {background-color: #d4ebff;}#sk-container-id-1 input.sk-hidden--visually {border: 0;clip: rect(1px 1px 1px 1px);clip: rect(1px, 1px, 1px, 1px);height: 1px;margin: -1px;overflow: hidden;padding: 0;position: absolute;width: 1px;}#sk-container-id-1 div.sk-estimator {font-family: monospace;background-color: #f0f8ff;border: 1px dotted black;border-radius: 0.25em;box-sizing: border-box;margin-bottom: 0.5em;}#sk-container-id-1 div.sk-estimator:hover {background-color: #d4ebff;}#sk-container-id-1 div.sk-parallel-item::after {content: \"\";width: 100%;border-bottom: 1px solid gray;flex-grow: 1;}#sk-container-id-1 div.sk-label:hover label.sk-toggleable__label {background-color: #d4ebff;}#sk-container-id-1 div.sk-serial::before {content: \"\";position: absolute;border-left: 1px solid gray;box-sizing: border-box;top: 0;bottom: 0;left: 50%;z-index: 0;}#sk-container-id-1 div.sk-serial {display: flex;flex-direction: column;align-items: center;background-color: white;padding-right: 0.2em;padding-left: 0.2em;position: relative;}#sk-container-id-1 div.sk-item {position: relative;z-index: 1;}#sk-container-id-1 div.sk-parallel {display: flex;align-items: stretch;justify-content: center;background-color: white;position: relative;}#sk-container-id-1 div.sk-item::before, #sk-container-id-1 div.sk-parallel-item::before {content: \"\";position: absolute;border-left: 1px solid gray;box-sizing: border-box;top: 0;bottom: 0;left: 50%;z-index: -1;}#sk-container-id-1 div.sk-parallel-item {display: flex;flex-direction: column;z-index: 1;position: relative;background-color: white;}#sk-container-id-1 div.sk-parallel-item:first-child::after {align-self: flex-end;width: 50%;}#sk-container-id-1 div.sk-parallel-item:last-child::after {align-self: flex-start;width: 50%;}#sk-container-id-1 div.sk-parallel-item:only-child::after {width: 0;}#sk-container-id-1 div.sk-dashed-wrapped {border: 1px dashed gray;margin: 0 0.4em 0.5em 0.4em;box-sizing: border-box;padding-bottom: 0.4em;background-color: white;}#sk-container-id-1 div.sk-label label {font-family: monospace;font-weight: bold;display: inline-block;line-height: 1.2em;}#sk-container-id-1 div.sk-label-container {text-align: center;}#sk-container-id-1 div.sk-container {/* jupyter's `normalize.less` sets `[hidden] { display: none; }` but bootstrap.min.css set `[hidden] { display: none !important; }` so we also need the `!important` here to be able to override the default hidden behavior on the sphinx rendered scikit-learn.org. See: https://github.com/scikit-learn/scikit-learn/issues/21755 */display: inline-block !important;position: relative;}#sk-container-id-1 div.sk-text-repr-fallback {display: none;}</style><div id=\"sk-container-id-1\" class=\"sk-top-container\"><div class=\"sk-text-repr-fallback\"><pre>RandomForestClassifier(min_samples_split=100, random_state=1)</pre><b>In a Jupyter environment, please rerun this cell to show the HTML representation or trust the notebook. <br />On GitHub, the HTML representation is unable to render, please try loading this page with nbviewer.org.</b></div><div class=\"sk-container\" hidden><div class=\"sk-item\"><div class=\"sk-estimator sk-toggleable\"><input class=\"sk-toggleable__control sk-hidden--visually\" id=\"sk-estimator-id-1\" type=\"checkbox\" checked><label for=\"sk-estimator-id-1\" class=\"sk-toggleable__label sk-toggleable__label-arrow\">RandomForestClassifier</label><div class=\"sk-toggleable__content\"><pre>RandomForestClassifier(min_samples_split=100, random_state=1)</pre></div></div></div></div></div>"
      ],
      "text/plain": [
       "RandomForestClassifier(min_samples_split=100, random_state=1)"
      ]
     },
     "execution_count": 15,
     "metadata": {},
     "output_type": "execute_result"
    }
   ],
   "source": [
    "from sklearn.ensemble import RandomForestClassifier\n",
    "\n",
    "model = RandomForestClassifier(n_estimators=100, min_samples_split=100, random_state=1)\n",
    "\n",
    "train = sp500.iloc[:-100]\n",
    "test = sp500.iloc[-100:]\n",
    "\n",
    "predictors = [\"Close\", \"Volume\", \"Open\", \"High\", \"Low\"]\n",
    "model.fit(train[predictors], train[\"Target\"])"
   ]
  },
  {
   "cell_type": "code",
   "execution_count": 16,
   "id": "c0837787-5d4e-4a20-ad0d-3a546bc23cdb",
   "metadata": {},
   "outputs": [
    {
     "data": {
      "text/plain": [
       "0.5"
      ]
     },
     "execution_count": 16,
     "metadata": {},
     "output_type": "execute_result"
    }
   ],
   "source": [
    "from sklearn.metrics import precision_score\n",
    "\n",
    "preds = model.predict(test[predictors])\n",
    "preds = pd.Series(preds, index=test.index)\n",
    "precision_score(test[\"Target\"], preds)"
   ]
  },
  {
   "cell_type": "code",
   "execution_count": 17,
   "id": "e33e349f-8365-4282-91db-3b5824e83262",
   "metadata": {},
   "outputs": [
    {
     "data": {
      "text/plain": [
       "<Axes: xlabel='Date'>"
      ]
     },
     "execution_count": 17,
     "metadata": {},
     "output_type": "execute_result"
    },
    {
     "data": {
      "image/png": "[encoded data removed]",
      "text/plain": [
       "<Figure size 640x480 with 1 Axes>"
      ]
     },
     "metadata": {},
     "output_type": "display_data"
    }
   ],
   "source": [
    "combined = pd.concat([test[\"Target\"], preds], axis=1)\n",
    "combined.plot()"
   ]
  },
  {
   "cell_type": "code",
   "execution_count": 18,
   "id": "d4049497-0ee7-4399-83ab-ef61ccf71133",
   "metadata": {},
   "outputs": [],
   "source": [
    "def predict(train, test, predictors, model):\n",
    "    model.fit(train[predictors], train[\"Target\"])\n",
    "    preds = model.predict(test[predictors])\n",
    "    preds = pd.Series(preds, index=test.index, name=\"Predictions\")\n",
    "    combined = pd.concat([test[\"Target\"], preds], axis=1)\n",
    "    return combined"
   ]
  },
  {
   "cell_type": "code",
   "execution_count": 19,
   "id": "ca97d93a-6841-49ef-8f91-25a713baef16",
   "metadata": {},
   "outputs": [],
   "source": [
    "def backtest(data, model, predictors, start=2500, step=250):\n",
    "    all_predictions = []\n",
    "\n",
    "    for i in range(start, data.shape[0], step):\n",
    "        train = data.iloc[0:i].copy()\n",
    "        test = data.iloc[i:(i+step)].copy()\n",
    "        predictions = predict(train, test, predictors, model)\n",
    "        all_predictions.append(predictions)\n",
    "    \n",
    "    return pd.concat(all_predictions)"
   ]
  },
  {
   "cell_type": "code",
   "execution_count": 20,
   "id": "8a75261f-d2de-4bc6-9364-54d520c63985",
   "metadata": {},
   "outputs": [],
   "source": [
    "predictions = backtest(sp500, model, predictors)"
   ]
  },
  {
   "cell_type": "code",
   "execution_count": 21,
   "id": "439d8704-c55d-4d1f-a709-acdc0f485e87",
   "metadata": {},
   "outputs": [
    {
     "data": {
      "text/plain": [
       "Predictions\n",
       "0    3431\n",
       "1    2490\n",
       "Name: count, dtype: int64"
      ]
     },
     "execution_count": 21,
     "metadata": {},
     "output_type": "execute_result"
    }
   ],
   "source": [
    "predictions[\"Predictions\"].value_counts()"
   ]
  },
  {
   "cell_type": "code",
   "execution_count": 22,
   "id": "bf105e8f-6be5-4494-9658-233761f1c4f4",
   "metadata": {},
   "outputs": [
    {
     "data": {
      "text/plain": [
       "0.5285140562248996"
      ]
     },
     "execution_count": 22,
     "metadata": {},
     "output_type": "execute_result"
    }
   ],
   "source": [
    "precision_score(predictions[\"Target\"], predictions[\"Predictions\"])"
   ]
  },
  {
   "cell_type": "code",
   "execution_count": 23,
   "id": "eff25a20-375e-444a-b5d3-b558753fc817",
   "metadata": {},
   "outputs": [
    {
     "data": {
      "text/plain": [
       "Target\n",
       "1    0.533694\n",
       "0    0.466306\n",
       "Name: count, dtype: float64"
      ]
     },
     "execution_count": 23,
     "metadata": {},
     "output_type": "execute_result"
    }
   ],
   "source": [
    "predictions[\"Target\"].value_counts() / predictions.shape[0]"
   ]
  },
  {
   "cell_type": "code",
   "execution_count": 24,
   "id": "ed05ece5-f1f4-443a-b179-33c7e709ea4d",
   "metadata": {},
   "outputs": [],
   "source": [
    "horizons = [2,5,60,250,1000]\n",
    "new_predictors = []\n",
    "\n",
    "for horizon in horizons:\n",
    "    rolling_averages = sp500.rolling(horizon).mean()\n",
    "    \n",
    "    ratio_column = f\"Close_Ratio_{horizon}\"\n",
    "    sp500[ratio_column] = sp500[\"Close\"] / rolling_averages[\"Close\"]\n",
    "    \n",
    "    trend_column = f\"Trend_{horizon}\"\n",
    "    sp500[trend_column] = sp500.shift(1).rolling(horizon).sum()[\"Target\"]\n",
    "    \n",
    "    new_predictors+= [ratio_column, trend_column]"
   ]
  },
  {
   "cell_type": "code",
   "execution_count": 25,
   "id": "6c04ab2d-64ff-4f56-a206-605dcce30372",
   "metadata": {},
   "outputs": [],
   "source": [
    "sp500 = sp500.dropna(subset=sp500.columns[sp500.columns != \"Tomorrow\"])"
   ]
  },
  {
   "cell_type": "code",
   "execution_count": 26,
   "id": "fd7b2523-85a4-477d-975d-9cf64b1ff557",
   "metadata": {},
   "outputs": [
    {
     "data": {
      "text/html": [
       "<div>\n",
       "<style scoped>\n",
       "    .dataframe tbody tr th:only-of-type {\n",
       "        vertical-align: middle;\n",
       "    }\n",
       "\n",
       "    .dataframe tbody tr th {\n",
       "        vertical-align: top;\n",
       "    }\n",
       "\n",
       "    .dataframe thead th {\n",
       "        text-align: right;\n",
       "    }\n",
       "</style>\n",
       "<table border=\"1\" class=\"dataframe\">\n",
       "  <thead>\n",
       "    <tr style=\"text-align: right;\">\n",
       "      <th></th>\n",
       "      <th>Open</th>\n",
       "      <th>High</th>\n",
       "      <th>Low</th>\n",
       "      <th>Close</th>\n",
       "      <th>Volume</th>\n",
       "      <th>Tomorrow</th>\n",
       "      <th>Target</th>\n",
       "      <th>Close_Ratio_2</th>\n",
       "      <th>Trend_2</th>\n",
       "      <th>Close_Ratio_5</th>\n",
       "      <th>Trend_5</th>\n",
       "      <th>Close_Ratio_60</th>\n",
       "      <th>Trend_60</th>\n",
       "      <th>Close_Ratio_250</th>\n",
       "      <th>Trend_250</th>\n",
       "      <th>Close_Ratio_1000</th>\n",
       "      <th>Trend_1000</th>\n",
       "    </tr>\n",
       "    <tr>\n",
       "      <th>Date</th>\n",
       "      <th></th>\n",
       "      <th></th>\n",
       "      <th></th>\n",
       "      <th></th>\n",
       "      <th></th>\n",
       "      <th></th>\n",
       "      <th></th>\n",
       "      <th></th>\n",
       "      <th></th>\n",
       "      <th></th>\n",
       "      <th></th>\n",
       "      <th></th>\n",
       "      <th></th>\n",
       "      <th></th>\n",
       "      <th></th>\n",
       "      <th></th>\n",
       "      <th></th>\n",
       "    </tr>\n",
       "  </thead>\n",
       "  <tbody>\n",
       "    <tr>\n",
       "      <th>1993-12-14 00:00:00-05:00</th>\n",
       "      <td>465.730011</td>\n",
       "      <td>466.119995</td>\n",
       "      <td>462.459991</td>\n",
       "      <td>463.059998</td>\n",
       "      <td>275050000</td>\n",
       "      <td>461.839996</td>\n",
       "      <td>0</td>\n",
       "      <td>0.997157</td>\n",
       "      <td>1.0</td>\n",
       "      <td>0.996617</td>\n",
       "      <td>1.0</td>\n",
       "      <td>1.000283</td>\n",
       "      <td>32.0</td>\n",
       "      <td>1.028047</td>\n",
       "      <td>127.0</td>\n",
       "      <td>1.176082</td>\n",
       "      <td>512.0</td>\n",
       "    </tr>\n",
       "    <tr>\n",
       "      <th>1993-12-15 00:00:00-05:00</th>\n",
       "      <td>463.059998</td>\n",
       "      <td>463.690002</td>\n",
       "      <td>461.839996</td>\n",
       "      <td>461.839996</td>\n",
       "      <td>331770000</td>\n",
       "      <td>463.339996</td>\n",
       "      <td>1</td>\n",
       "      <td>0.998681</td>\n",
       "      <td>0.0</td>\n",
       "      <td>0.995899</td>\n",
       "      <td>1.0</td>\n",
       "      <td>0.997329</td>\n",
       "      <td>32.0</td>\n",
       "      <td>1.025151</td>\n",
       "      <td>126.0</td>\n",
       "      <td>1.172676</td>\n",
       "      <td>512.0</td>\n",
       "    </tr>\n",
       "    <tr>\n",
       "      <th>1993-12-16 00:00:00-05:00</th>\n",
       "      <td>461.859985</td>\n",
       "      <td>463.980011</td>\n",
       "      <td>461.859985</td>\n",
       "      <td>463.339996</td>\n",
       "      <td>284620000</td>\n",
       "      <td>466.380005</td>\n",
       "      <td>1</td>\n",
       "      <td>1.001621</td>\n",
       "      <td>1.0</td>\n",
       "      <td>0.999495</td>\n",
       "      <td>2.0</td>\n",
       "      <td>1.000311</td>\n",
       "      <td>32.0</td>\n",
       "      <td>1.028274</td>\n",
       "      <td>127.0</td>\n",
       "      <td>1.176163</td>\n",
       "      <td>513.0</td>\n",
       "    </tr>\n",
       "    <tr>\n",
       "      <th>1993-12-17 00:00:00-05:00</th>\n",
       "      <td>463.339996</td>\n",
       "      <td>466.380005</td>\n",
       "      <td>463.339996</td>\n",
       "      <td>466.380005</td>\n",
       "      <td>363750000</td>\n",
       "      <td>465.850006</td>\n",
       "      <td>0</td>\n",
       "      <td>1.003270</td>\n",
       "      <td>2.0</td>\n",
       "      <td>1.004991</td>\n",
       "      <td>3.0</td>\n",
       "      <td>1.006561</td>\n",
       "      <td>32.0</td>\n",
       "      <td>1.034781</td>\n",
       "      <td>128.0</td>\n",
       "      <td>1.183537</td>\n",
       "      <td>514.0</td>\n",
       "    </tr>\n",
       "    <tr>\n",
       "      <th>1993-12-20 00:00:00-05:00</th>\n",
       "      <td>466.380005</td>\n",
       "      <td>466.899994</td>\n",
       "      <td>465.529999</td>\n",
       "      <td>465.850006</td>\n",
       "      <td>255900000</td>\n",
       "      <td>465.299988</td>\n",
       "      <td>0</td>\n",
       "      <td>0.999431</td>\n",
       "      <td>1.0</td>\n",
       "      <td>1.003784</td>\n",
       "      <td>2.0</td>\n",
       "      <td>1.005120</td>\n",
       "      <td>32.0</td>\n",
       "      <td>1.033359</td>\n",
       "      <td>128.0</td>\n",
       "      <td>1.181856</td>\n",
       "      <td>513.0</td>\n",
       "    </tr>\n",
       "    <tr>\n",
       "      <th>...</th>\n",
       "      <td>...</td>\n",
       "      <td>...</td>\n",
       "      <td>...</td>\n",
       "      <td>...</td>\n",
       "      <td>...</td>\n",
       "      <td>...</td>\n",
       "      <td>...</td>\n",
       "      <td>...</td>\n",
       "      <td>...</td>\n",
       "      <td>...</td>\n",
       "      <td>...</td>\n",
       "      <td>...</td>\n",
       "      <td>...</td>\n",
       "      <td>...</td>\n",
       "      <td>...</td>\n",
       "      <td>...</td>\n",
       "      <td>...</td>\n",
       "    </tr>\n",
       "    <tr>\n",
       "      <th>2023-05-30 00:00:00-04:00</th>\n",
       "      <td>4226.709961</td>\n",
       "      <td>4231.100098</td>\n",
       "      <td>4192.180176</td>\n",
       "      <td>4205.520020</td>\n",
       "      <td>4228510000</td>\n",
       "      <td>4179.830078</td>\n",
       "      <td>0</td>\n",
       "      <td>1.000008</td>\n",
       "      <td>2.0</td>\n",
       "      <td>1.009822</td>\n",
       "      <td>3.0</td>\n",
       "      <td>1.031429</td>\n",
       "      <td>32.0</td>\n",
       "      <td>1.059173</td>\n",
       "      <td>115.0</td>\n",
       "      <td>1.118338</td>\n",
       "      <td>533.0</td>\n",
       "    </tr>\n",
       "    <tr>\n",
       "      <th>2023-05-31 00:00:00-04:00</th>\n",
       "      <td>4190.740234</td>\n",
       "      <td>4195.439941</td>\n",
       "      <td>4166.149902</td>\n",
       "      <td>4179.830078</td>\n",
       "      <td>5980670000</td>\n",
       "      <td>4221.020020</td>\n",
       "      <td>1</td>\n",
       "      <td>0.996936</td>\n",
       "      <td>1.0</td>\n",
       "      <td>1.002006</td>\n",
       "      <td>3.0</td>\n",
       "      <td>1.024578</td>\n",
       "      <td>31.0</td>\n",
       "      <td>1.052619</td>\n",
       "      <td>115.0</td>\n",
       "      <td>1.111124</td>\n",
       "      <td>533.0</td>\n",
       "    </tr>\n",
       "    <tr>\n",
       "      <th>2023-06-01 00:00:00-04:00</th>\n",
       "      <td>4183.029785</td>\n",
       "      <td>4232.430176</td>\n",
       "      <td>4171.640137</td>\n",
       "      <td>4221.020020</td>\n",
       "      <td>4391860000</td>\n",
       "      <td>4282.370117</td>\n",
       "      <td>1</td>\n",
       "      <td>1.004903</td>\n",
       "      <td>1.0</td>\n",
       "      <td>1.006774</td>\n",
       "      <td>4.0</td>\n",
       "      <td>1.033684</td>\n",
       "      <td>32.0</td>\n",
       "      <td>1.062945</td>\n",
       "      <td>115.0</td>\n",
       "      <td>1.121674</td>\n",
       "      <td>534.0</td>\n",
       "    </tr>\n",
       "    <tr>\n",
       "      <th>2023-06-02 00:00:00-04:00</th>\n",
       "      <td>4241.009766</td>\n",
       "      <td>4290.669922</td>\n",
       "      <td>4241.009766</td>\n",
       "      <td>4282.370117</td>\n",
       "      <td>4454200000</td>\n",
       "      <td>4273.790039</td>\n",
       "      <td>0</td>\n",
       "      <td>1.007215</td>\n",
       "      <td>2.0</td>\n",
       "      <td>1.015059</td>\n",
       "      <td>4.0</td>\n",
       "      <td>1.047466</td>\n",
       "      <td>32.0</td>\n",
       "      <td>1.078206</td>\n",
       "      <td>116.0</td>\n",
       "      <td>1.137556</td>\n",
       "      <td>534.0</td>\n",
       "    </tr>\n",
       "    <tr>\n",
       "      <th>2023-06-05 00:00:00-04:00</th>\n",
       "      <td>4282.990234</td>\n",
       "      <td>4299.279785</td>\n",
       "      <td>4266.819824</td>\n",
       "      <td>4273.790039</td>\n",
       "      <td>3813290000</td>\n",
       "      <td>NaN</td>\n",
       "      <td>0</td>\n",
       "      <td>0.998997</td>\n",
       "      <td>1.0</td>\n",
       "      <td>1.009754</td>\n",
       "      <td>3.0</td>\n",
       "      <td>1.043855</td>\n",
       "      <td>32.0</td>\n",
       "      <td>1.075880</td>\n",
       "      <td>115.0</td>\n",
       "      <td>1.134859</td>\n",
       "      <td>534.0</td>\n",
       "    </tr>\n",
       "  </tbody>\n",
       "</table>\n",
       "<p>7421 rows × 17 columns</p>\n",
       "</div>"
      ],
      "text/plain": [
       "                                  Open         High          Low        Close  \\\n",
       "Date                                                                            \n",
       "1993-12-14 00:00:00-05:00   465.730011   466.119995   462.459991   463.059998   \n",
       "1993-12-15 00:00:00-05:00   463.059998   463.690002   461.839996   461.839996   \n",
       "1993-12-16 00:00:00-05:00   461.859985   463.980011   461.859985   463.339996   \n",
       "1993-12-17 00:00:00-05:00   463.339996   466.380005   463.339996   466.380005   \n",
       "1993-12-20 00:00:00-05:00   466.380005   466.899994   465.529999   465.850006   \n",
       "...                                ...          ...          ...          ...   \n",
       "2023-05-30 00:00:00-04:00  4226.709961  4231.100098  4192.180176  4205.520020   \n",
       "2023-05-31 00:00:00-04:00  4190.740234  4195.439941  4166.149902  4179.830078   \n",
       "2023-06-01 00:00:00-04:00  4183.029785  4232.430176  4171.640137  4221.020020   \n",
       "2023-06-02 00:00:00-04:00  4241.009766  4290.669922  4241.009766  4282.370117   \n",
       "2023-06-05 00:00:00-04:00  4282.990234  4299.279785  4266.819824  4273.790039   \n",
       "\n",
       "                               Volume     Tomorrow  Target  Close_Ratio_2  \\\n",
       "Date                                                                        \n",
       "1993-12-14 00:00:00-05:00   275050000   461.839996       0       0.997157   \n",
       "1993-12-15 00:00:00-05:00   331770000   463.339996       1       0.998681   \n",
       "1993-12-16 00:00:00-05:00   284620000   466.380005       1       1.001621   \n",
       "1993-12-17 00:00:00-05:00   363750000   465.850006       0       1.003270   \n",
       "1993-12-20 00:00:00-05:00   255900000   465.299988       0       0.999431   \n",
       "...                               ...          ...     ...            ...   \n",
       "2023-05-30 00:00:00-04:00  4228510000  4179.830078       0       1.000008   \n",
       "2023-05-31 00:00:00-04:00  5980670000  4221.020020       1       0.996936   \n",
       "2023-06-01 00:00:00-04:00  4391860000  4282.370117       1       1.004903   \n",
       "2023-06-02 00:00:00-04:00  4454200000  4273.790039       0       1.007215   \n",
       "2023-06-05 00:00:00-04:00  3813290000          NaN       0       0.998997   \n",
       "\n",
       "                           Trend_2  Close_Ratio_5  Trend_5  Close_Ratio_60  \\\n",
       "Date                                                                         \n",
       "1993-12-14 00:00:00-05:00      1.0       0.996617      1.0        1.000283   \n",
       "1993-12-15 00:00:00-05:00      0.0       0.995899      1.0        0.997329   \n",
       "1993-12-16 00:00:00-05:00      1.0       0.999495      2.0        1.000311   \n",
       "1993-12-17 00:00:00-05:00      2.0       1.004991      3.0        1.006561   \n",
       "1993-12-20 00:00:00-05:00      1.0       1.003784      2.0        1.005120   \n",
       "...                            ...            ...      ...             ...   \n",
       "2023-05-30 00:00:00-04:00      2.0       1.009822      3.0        1.031429   \n",
       "2023-05-31 00:00:00-04:00      1.0       1.002006      3.0        1.024578   \n",
       "2023-06-01 00:00:00-04:00      1.0       1.006774      4.0        1.033684   \n",
       "2023-06-02 00:00:00-04:00      2.0       1.015059      4.0        1.047466   \n",
       "2023-06-05 00:00:00-04:00      1.0       1.009754      3.0        1.043855   \n",
       "\n",
       "                           Trend_60  Close_Ratio_250  Trend_250  \\\n",
       "Date                                                              \n",
       "1993-12-14 00:00:00-05:00      32.0         1.028047      127.0   \n",
       "1993-12-15 00:00:00-05:00      32.0         1.025151      126.0   \n",
       "1993-12-16 00:00:00-05:00      32.0         1.028274      127.0   \n",
       "1993-12-17 00:00:00-05:00      32.0         1.034781      128.0   \n",
       "1993-12-20 00:00:00-05:00      32.0         1.033359      128.0   \n",
       "...                             ...              ...        ...   \n",
       "2023-05-30 00:00:00-04:00      32.0         1.059173      115.0   \n",
       "2023-05-31 00:00:00-04:00      31.0         1.052619      115.0   \n",
       "2023-06-01 00:00:00-04:00      32.0         1.062945      115.0   \n",
       "2023-06-02 00:00:00-04:00      32.0         1.078206      116.0   \n",
       "2023-06-05 00:00:00-04:00      32.0         1.075880      115.0   \n",
       "\n",
       "                           Close_Ratio_1000  Trend_1000  \n",
       "Date                                                     \n",
       "1993-12-14 00:00:00-05:00          1.176082       512.0  \n",
       "1993-12-15 00:00:00-05:00          1.172676       512.0  \n",
       "1993-12-16 00:00:00-05:00          1.176163       513.0  \n",
       "1993-12-17 00:00:00-05:00          1.183537       514.0  \n",
       "1993-12-20 00:00:00-05:00          1.181856       513.0  \n",
       "...                                     ...         ...  \n",
       "2023-05-30 00:00:00-04:00          1.118338       533.0  \n",
       "2023-05-31 00:00:00-04:00          1.111124       533.0  \n",
       "2023-06-01 00:00:00-04:00          1.121674       534.0  \n",
       "2023-06-02 00:00:00-04:00          1.137556       534.0  \n",
       "2023-06-05 00:00:00-04:00          1.134859       534.0  \n",
       "\n",
       "[7421 rows x 17 columns]"
      ]
     },
     "execution_count": 26,
     "metadata": {},
     "output_type": "execute_result"
    }
   ],
   "source": [
    "sp500"
   ]
  },
  {
   "cell_type": "code",
   "execution_count": 27,
   "id": "283be581-dbe1-4f02-8851-ff1a027b4104",
   "metadata": {},
   "outputs": [],
   "source": [
    "model = RandomForestClassifier(n_estimators=200, min_samples_split=50, random_state=1)"
   ]
  },
  {
   "cell_type": "code",
   "execution_count": 28,
   "id": "a843303c-a247-4f6d-9505-cc711ca95afa",
   "metadata": {},
   "outputs": [],
   "source": [
    "def predict(train, test, predictors, model):\n",
    "    model.fit(train[predictors], train[\"Target\"])\n",
    "    preds = model.predict_proba(test[predictors])[:,1]\n",
    "    preds[preds >=.6] = 1\n",
    "    preds[preds <.6] = 0\n",
    "    preds = pd.Series(preds, index=test.index, name=\"Predictions\")\n",
    "    combined = pd.concat([test[\"Target\"], preds], axis=1)\n",
    "    return combined"
   ]
  },
  {
   "cell_type": "code",
   "execution_count": 29,
   "id": "fb820946-1275-4914-b6a8-355e96f315b6",
   "metadata": {},
   "outputs": [],
   "source": [
    "predictions = backtest(sp500, model, new_predictors)"
   ]
  },
  {
   "cell_type": "code",
   "execution_count": 30,
   "id": "a73e1816-283a-47ac-af43-4550b80307ef",
   "metadata": {},
   "outputs": [
    {
     "data": {
      "text/plain": [
       "Predictions\n",
       "0.0    4107\n",
       "1.0     814\n",
       "Name: count, dtype: int64"
      ]
     },
     "execution_count": 30,
     "metadata": {},
     "output_type": "execute_result"
    }
   ],
   "source": [
    "predictions[\"Predictions\"].value_counts()"
   ]
  },
  {
   "cell_type": "code",
   "execution_count": 31,
   "id": "14acc336-4991-4189-bb16-4a8bf53056e1",
   "metadata": {},
   "outputs": [
    {
     "data": {
      "text/plain": [
       "0.5687960687960688"
      ]
     },
     "execution_count": 31,
     "metadata": {},
     "output_type": "execute_result"
    }
   ],
   "source": [
    "precision_score(predictions[\"Target\"], predictions[\"Predictions\"])"
   ]
  },
  {
   "cell_type": "code",
   "execution_count": 32,
   "id": "21b3d365-2157-4229-a785-ae687da0f21f",
   "metadata": {},
   "outputs": [
    {
     "data": {
      "text/plain": [
       "Target\n",
       "1    0.543589\n",
       "0    0.456411\n",
       "Name: count, dtype: float64"
      ]
     },
     "execution_count": 32,
     "metadata": {},
     "output_type": "execute_result"
    }
   ],
   "source": [
    "predictions[\"Target\"].value_counts() / predictions.shape[0]"
   ]
  },
  {
   "cell_type": "code",
   "execution_count": 33,
   "id": "ef08fff5-0dd5-4d86-9d0d-8ce9f7443865",
   "metadata": {},
   "outputs": [
    {
     "data": {
      "text/html": [
       "<div>\n",
       "<style scoped>\n",
       "    .dataframe tbody tr th:only-of-type {\n",
       "        vertical-align: middle;\n",
       "    }\n",
       "\n",
       "    .dataframe tbody tr th {\n",
       "        vertical-align: top;\n",
       "    }\n",
       "\n",
       "    .dataframe thead th {\n",
       "        text-align: right;\n",
       "    }\n",
       "</style>\n",
       "<table border=\"1\" class=\"dataframe\">\n",
       "  <thead>\n",
       "    <tr style=\"text-align: right;\">\n",
       "      <th></th>\n",
       "      <th>Target</th>\n",
       "      <th>Predictions</th>\n",
       "    </tr>\n",
       "    <tr>\n",
       "      <th>Date</th>\n",
       "      <th></th>\n",
       "      <th></th>\n",
       "    </tr>\n",
       "  </thead>\n",
       "  <tbody>\n",
       "    <tr>\n",
       "      <th>2003-11-14 00:00:00-05:00</th>\n",
       "      <td>0</td>\n",
       "      <td>0.0</td>\n",
       "    </tr>\n",
       "    <tr>\n",
       "      <th>2003-11-17 00:00:00-05:00</th>\n",
       "      <td>0</td>\n",
       "      <td>1.0</td>\n",
       "    </tr>\n",
       "    <tr>\n",
       "      <th>2003-11-18 00:00:00-05:00</th>\n",
       "      <td>1</td>\n",
       "      <td>1.0</td>\n",
       "    </tr>\n",
       "    <tr>\n",
       "      <th>2003-11-19 00:00:00-05:00</th>\n",
       "      <td>0</td>\n",
       "      <td>0.0</td>\n",
       "    </tr>\n",
       "    <tr>\n",
       "      <th>2003-11-20 00:00:00-05:00</th>\n",
       "      <td>1</td>\n",
       "      <td>1.0</td>\n",
       "    </tr>\n",
       "    <tr>\n",
       "      <th>...</th>\n",
       "      <td>...</td>\n",
       "      <td>...</td>\n",
       "    </tr>\n",
       "    <tr>\n",
       "      <th>2023-05-30 00:00:00-04:00</th>\n",
       "      <td>0</td>\n",
       "      <td>0.0</td>\n",
       "    </tr>\n",
       "    <tr>\n",
       "      <th>2023-05-31 00:00:00-04:00</th>\n",
       "      <td>1</td>\n",
       "      <td>0.0</td>\n",
       "    </tr>\n",
       "    <tr>\n",
       "      <th>2023-06-01 00:00:00-04:00</th>\n",
       "      <td>1</td>\n",
       "      <td>0.0</td>\n",
       "    </tr>\n",
       "    <tr>\n",
       "      <th>2023-06-02 00:00:00-04:00</th>\n",
       "      <td>0</td>\n",
       "      <td>0.0</td>\n",
       "    </tr>\n",
       "    <tr>\n",
       "      <th>2023-06-05 00:00:00-04:00</th>\n",
       "      <td>0</td>\n",
       "      <td>0.0</td>\n",
       "    </tr>\n",
       "  </tbody>\n",
       "</table>\n",
       "<p>4921 rows × 2 columns</p>\n",
       "</div>"
      ],
      "text/plain": [
       "                           Target  Predictions\n",
       "Date                                          \n",
       "2003-11-14 00:00:00-05:00       0          0.0\n",
       "2003-11-17 00:00:00-05:00       0          1.0\n",
       "2003-11-18 00:00:00-05:00       1          1.0\n",
       "2003-11-19 00:00:00-05:00       0          0.0\n",
       "2003-11-20 00:00:00-05:00       1          1.0\n",
       "...                           ...          ...\n",
       "2023-05-30 00:00:00-04:00       0          0.0\n",
       "2023-05-31 00:00:00-04:00       1          0.0\n",
       "2023-06-01 00:00:00-04:00       1          0.0\n",
       "2023-06-02 00:00:00-04:00       0          0.0\n",
       "2023-06-05 00:00:00-04:00       0          0.0\n",
       "\n",
       "[4921 rows x 2 columns]"
      ]
     },
     "execution_count": 33,
     "metadata": {},
     "output_type": "execute_result"
    }
   ],
   "source": [
    "predictions"
   ]
  },
  {
   "cell_type": "code",
   "execution_count": null,
   "id": "b2d35fd3-7038-4e69-bcbd-bde42c1f5e33",
   "metadata": {},
   "outputs": [],
   "source": []
  }
 ],
 "metadata": {
  "kernelspec": {
   "display_name": "Python 3 (ipykernel)",
   "language": "python",
   "name": "python3"
  },
  "language_info": {
   "codemirror_mode": {
    "name": "ipython",
    "version": 3
   },
   "file_extension": ".py",
   "mimetype": "text/x-python",
   "name": "python",
   "nbconvert_exporter": "python",
   "pygments_lexer": "ipython3",
   "version": "3.9.2"
  }
 },
 "nbformat": 4,
 "nbformat_minor": 5
}
